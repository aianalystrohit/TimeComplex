{
 "cells": [
  {
   "cell_type": "code",
   "execution_count": 1,
   "id": "67411cf6-6441-4567-b1bc-1eb66b9d4837",
   "metadata": {},
   "outputs": [],
   "source": [
    "def quicksort(arr, start=0, end=None):\n",
    "    if end is None:\n",
    "        end = len(arr) - 1\n",
    "\n",
    "    if start < end:\n",
    "        pivot_index = partition(arr, start, end)\n",
    "        quicksort(arr, start, pivot_index - 1)\n",
    "        quicksort(arr, pivot_index + 1, end)\n",
    "\n",
    "def partition(arr, start, end):\n",
    "    pivot = arr[end]\n",
    "    i = start - 1\n",
    "\n",
    "    for j in range(start, end):\n",
    "        if arr[j] <= pivot:\n",
    "            i += 1\n",
    "            arr[i], arr[j] = arr[j], arr[i]\n",
    "\n",
    "    arr[i + 1], arr[end] = arr[end], arr[i + 1]\n",
    "    return i + 1"
   ]
  },
  {
   "cell_type": "code",
   "execution_count": 7,
   "id": "1b1bf28b-10c3-441e-927e-9ce2c65b38a5",
   "metadata": {},
   "outputs": [
    {
     "ename": "IndentationError",
     "evalue": "unexpected indent (2105731055.py, line 3)",
     "output_type": "error",
     "traceback": [
      "\u001b[1;36m  Cell \u001b[1;32mIn[7], line 3\u001b[1;36m\u001b[0m\n\u001b[1;33m    complexity of O(n).\u001b[0m\n\u001b[1;37m    ^\u001b[0m\n\u001b[1;31mIndentationError\u001b[0m\u001b[1;31m:\u001b[0m unexpected indent\n"
     ]
    }
   ],
   "source": [
    "def nested_loop_example(matrix):\n",
    "    return sum(sum(row) for row in matrix)\n",
    "         complexity of O(n)."
   ]
  },
  {
   "cell_type": "code",
   "execution_count": 6,
   "id": "f42671c1-c106-4a6b-99a1-d22f77167f76",
   "metadata": {},
   "outputs": [
    {
     "ename": "IndentationError",
     "evalue": "unexpected indent (2291970350.py, line 6)",
     "output_type": "error",
     "traceback": [
      "\u001b[1;36m  Cell \u001b[1;32mIn[6], line 6\u001b[1;36m\u001b[0m\n\u001b[1;33m    complexity of O(n).\u001b[0m\n\u001b[1;37m    ^\u001b[0m\n\u001b[1;31mIndentationError\u001b[0m\u001b[1;31m:\u001b[0m unexpected indent\n"
     ]
    }
   ],
   "source": [
    "def linear_search(arr, target):\n",
    "    for i in range(len(arr)):\n",
    "        if arr[i] == target:\n",
    "            return i\n",
    "    return -1\n",
    "     complexity of O(n)."
   ]
  },
  {
   "cell_type": "code",
   "execution_count": 8,
   "id": "7385ddce-f550-4b5d-86d8-7bbd849f51f3",
   "metadata": {},
   "outputs": [],
   "source": [
    "#4.  O(n^2)."
   ]
  },
  {
   "cell_type": "code",
   "execution_count": 9,
   "id": "c870808c-8353-41bb-9451-2ed8be1d4f8d",
   "metadata": {},
   "outputs": [],
   "source": [
    "#5.  mysterious_function is O(n^2"
   ]
  },
  {
   "cell_type": "code",
   "execution_count": 11,
   "id": "5aa9750e-7448-4742-a478-306086f89f64",
   "metadata": {},
   "outputs": [],
   "source": [
    "def sum_of_digits(num):\n",
    "\n",
    "  if num == 0:\n",
    "    return 0\n",
    "  else:\n",
    "    return num % 10 + sum_of_digits(num // 10)"
   ]
  },
  {
   "cell_type": "code",
   "execution_count": 12,
   "id": "68168e97-5dc4-4dab-a4e2-a5c83414cbe6",
   "metadata": {},
   "outputs": [],
   "source": [
    "def fibonacci_series(n):\n",
    "  if n <= 0:\n",
    "    return []\n",
    "  elif n == 1:\n",
    "    return [0]\n",
    "  else:\n",
    "    fib_series = fibonacci_series(n - 1)\n",
    "    fib_series.append(fib_series[-1] + fib_series[-2])\n",
    "    return fib_series"
   ]
  },
  {
   "cell_type": "code",
   "execution_count": 13,
   "id": "a8c79f44-3b99-4172-94a1-1fcc0b9c52ac",
   "metadata": {},
   "outputs": [],
   "source": [
    "def subset_sum(nums, target):\n",
    "  if target == 0:\n",
    "    return True\n",
    "  if not nums or target < 0:\n",
    "    return False\n",
    "\n",
    "  # Include the current element in the subset\n",
    "  include = subset_sum(nums[1:], target - nums[0])\n",
    "\n",
    "  # Exclude the current element from the subset\n",
    "  exclude = subset_sum(nums[1:], target)\n",
    "\n",
    "  return include or exclude"
   ]
  },
  {
   "cell_type": "code",
   "execution_count": 14,
   "id": "b25c1511-cbbb-4b60-9c3f-332e2533479c",
   "metadata": {},
   "outputs": [],
   "source": [
    "def word_break(s, word_dict):\n",
    "  if not s:\n",
    "    return True\n",
    "  for i in range(1, len(s) + 1):\n",
    "    if s[:i] in word_dict and word_break(s[i:], word_dict):\n",
    "      return True\n",
    "  return False"
   ]
  },
  {
   "cell_type": "code",
   "execution_count": null,
   "id": "5d45b738-d562-491a-ba9a-a70c761cfe32",
   "metadata": {},
   "outputs": [],
   "source": []
  }
 ],
 "metadata": {
  "kernelspec": {
   "display_name": "Python 3 (ipykernel)",
   "language": "python",
   "name": "python3"
  },
  "language_info": {
   "codemirror_mode": {
    "name": "ipython",
    "version": 3
   },
   "file_extension": ".py",
   "mimetype": "text/x-python",
   "name": "python",
   "nbconvert_exporter": "python",
   "pygments_lexer": "ipython3",
   "version": "3.12.4"
  }
 },
 "nbformat": 4,
 "nbformat_minor": 5
}
